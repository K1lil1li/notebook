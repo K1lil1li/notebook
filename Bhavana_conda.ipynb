{
  "nbformat": 4,
  "nbformat_minor": 0,
  "metadata": {
    "colab": {
      "provenance": [],
      "authorship_tag": "ABX9TyOVK2dqygBKpsYIRrkGkBxW",
      "include_colab_link": true
    },
    "kernelspec": {
      "name": "python3",
      "display_name": "Python 3"
    },
    "language_info": {
      "name": "python"
    }
  },
  "cells": [
    {
      "cell_type": "markdown",
      "metadata": {
        "id": "view-in-github",
        "colab_type": "text"
      },
      "source": [
        "<a href=\"https://colab.research.google.com/github/K1lil1li/notebook/blob/4.x/Bhavana_conda.ipynb\" target=\"_parent\"><img src=\"https://colab.research.google.com/assets/colab-badge.svg\" alt=\"Open In Colab\"/></a>"
      ]
    },
    {
      "cell_type": "code",
      "source": [
        "import time\n",
        "import webbrowser\n",
        "\n",
        "breaks = 3\n",
        "\n",
        "for i in range(breaks):\n",
        "   time.sleep(2*60*60)\n",
        "   webbrowser.open('https://youtu.be/_B6T8O15Ohk', new=2)"
      ],
      "metadata": {
        "id": "vpn6ziGybCVK"
      },
      "execution_count": null,
      "outputs": []
    }
  ]
}